{
 "cells": [
  {
   "cell_type": "code",
   "execution_count": 1,
   "metadata": {},
   "outputs": [],
   "source": [
    "import numpy as np\n",
    "import pandas as pd\n",
    "from bokeh.io import output_notebook, show\n",
    "output_notebook()\n",
    "\n",
    "from bracketology import Bracket"
   ]
  },
  {
   "cell_type": "markdown",
   "metadata": {},
   "source": [
    "Probability of a seed s making it to round r"
   ]
  },
  {
   "cell_type": "code",
   "execution_count": 2,
   "metadata": {},
   "outputs": [],
   "source": [
    "b2019 = Bracket(2019)"
   ]
  },
  {
   "cell_type": "code",
   "execution_count": 3,
   "metadata": {},
   "outputs": [],
   "source": [
    "brackets = []\n",
    "for year in range(1985,2019+1):\n",
    "    brackets.append(Bracket(year))"
   ]
  },
  {
   "cell_type": "code",
   "execution_count": 4,
   "metadata": {},
   "outputs": [],
   "source": [
    "n_years = len(brackets)\n",
    "n_subbrackets = n_years * 4 # there are four regions per bracket\n",
    "seeds = [s+1 for s in range(16)] # potential seeds, 1-16"
   ]
  },
  {
   "cell_type": "code",
   "execution_count": 5,
   "metadata": {},
   "outputs": [],
   "source": [
    "bracket = brackets[0]"
   ]
  },
  {
   "cell_type": "code",
   "execution_count": 6,
   "metadata": {},
   "outputs": [],
   "source": [
    "second_round_seeds = []\n",
    "third_round_seeds = []\n",
    "fourth_round_seeds = []\n",
    "fifth_round_seeds = []\n",
    "sixth_round_seeds = []\n",
    "seventh_round_seeds = []\n",
    "\n",
    "for bracket in brackets:\n",
    "\n",
    "    second_round_seeds += [team['Seed'] for team in bracket.result['second']]\n",
    "    third_round_seeds += [team['Seed'] for team in bracket.result['sweet16']]\n",
    "    fourth_round_seeds += [team['Seed'] for team in bracket.result['elite8']]\n",
    "    fifth_round_seeds += [team['Seed'] for team in bracket.result['final4']]\n",
    "    sixth_round_seeds += [team['Seed'] for team in bracket.result['championship']]\n",
    "    seventh_round_seeds += [bracket.result['winner']['Seed']]"
   ]
  },
  {
   "cell_type": "code",
   "execution_count": 7,
   "metadata": {},
   "outputs": [],
   "source": [
    "seed_round_probability = {}\n",
    "for seed in seeds:\n",
    "    prob_first = 1.0\n",
    "    prob_second = sum([s==seed for s in second_round_seeds]) / n_subbrackets\n",
    "    prob_third = sum([s==seed for s in third_round_seeds]) / n_subbrackets\n",
    "    prob_fourth = sum([s==seed for s in fourth_round_seeds]) / n_subbrackets\n",
    "    prob_fifth = sum([s==seed for s in fifth_round_seeds]) / n_subbrackets\n",
    "    prob_sixth = sum([s==seed for s in sixth_round_seeds]) / (n_subbrackets/2)\n",
    "    prob_seventh = sum([s==seed for s in seventh_round_seeds]) / (n_subbrackets/4)\n",
    "    \n",
    "    seed_round_probability[(seed,1)] = round(prob_first,3)\n",
    "    seed_round_probability[(seed,2)] = round(prob_second,3)\n",
    "    seed_round_probability[(seed,3)] = round(prob_third,3)\n",
    "    seed_round_probability[(seed,4)] = round(prob_fourth,3)\n",
    "    seed_round_probability[(seed,5)] = round(prob_fifth,3)\n",
    "    seed_round_probability[(seed,6)] = round(prob_sixth,3)\n",
    "    seed_round_probability[(seed,7)] = round(prob_seventh,3)"
   ]
  },
  {
   "cell_type": "code",
   "execution_count": 8,
   "metadata": {},
   "outputs": [],
   "source": [
    "probs_df = pd.Series(seed_round_probability).reset_index()\n",
    "probs_df.columns = ['seed','round','prob']"
   ]
  },
  {
   "cell_type": "code",
   "execution_count": 9,
   "metadata": {},
   "outputs": [
    {
     "name": "stdout",
     "output_type": "stream",
     "text": [
      "1.0\n",
      "1.0\n",
      "1.0\n",
      "1.0\n",
      "1.0\n",
      "1.0\n",
      "1.0\n",
      "1.0\n",
      "1.0\n",
      "1.0\n",
      "1.0\n",
      "1.0\n",
      "1.0\n",
      "0.999\n",
      "0.999\n"
     ]
    }
   ],
   "source": [
    "print(probs_df[(probs_df.seed.isin([1,16])) & (probs_df['round'] == 2)].prob.sum())\n",
    "print(probs_df[(probs_df.seed.isin([2,15])) & (probs_df['round'] == 2)].prob.sum())\n",
    "print(probs_df[(probs_df.seed.isin([3,14])) & (probs_df['round'] == 2)].prob.sum())\n",
    "print(probs_df[(probs_df.seed.isin([4,13])) & (probs_df['round'] == 2)].prob.sum())\n",
    "print(probs_df[(probs_df.seed.isin([5,12])) & (probs_df['round'] == 2)].prob.sum())\n",
    "print(probs_df[(probs_df.seed.isin([6,11])) & (probs_df['round'] == 2)].prob.sum())\n",
    "print(probs_df[(probs_df.seed.isin([7,10])) & (probs_df['round'] == 2)].prob.sum())\n",
    "print(probs_df[(probs_df.seed.isin([8,9])) & (probs_df['round'] == 2)].prob.sum())\n",
    "\n",
    "print(probs_df[(probs_df.seed.isin([1,16,8,9])) & (probs_df['round'] == 3)].prob.sum())\n",
    "print(probs_df[(probs_df.seed.isin([4,13,5,12])) & (probs_df['round'] == 3)].prob.sum())\n",
    "print(probs_df[(probs_df.seed.isin([3,14,6,11])) & (probs_df['round'] == 3)].prob.sum())\n",
    "print(probs_df[(probs_df.seed.isin([2,15,7,10])) & (probs_df['round'] == 3)].prob.sum())\n",
    "\n",
    "print(probs_df[(probs_df.seed.isin([1,16,8,9,4,13,5,12])) & (probs_df['round'] == 4)].prob.sum())\n",
    "print(probs_df[(probs_df.seed.isin([2,15,7,10,3,14,6,11])) & (probs_df['round'] == 4)].prob.sum())\n",
    "\n",
    "print(probs_df[(probs_df.seed.isin(seeds)) & (probs_df['round'] == 5)].prob.sum())"
   ]
  },
  {
   "cell_type": "code",
   "execution_count": null,
   "metadata": {},
   "outputs": [],
   "source": []
  },
  {
   "cell_type": "code",
   "execution_count": null,
   "metadata": {},
   "outputs": [],
   "source": []
  },
  {
   "cell_type": "code",
   "execution_count": null,
   "metadata": {},
   "outputs": [],
   "source": []
  },
  {
   "cell_type": "code",
   "execution_count": null,
   "metadata": {},
   "outputs": [],
   "source": []
  },
  {
   "cell_type": "code",
   "execution_count": null,
   "metadata": {},
   "outputs": [],
   "source": []
  }
 ],
 "metadata": {
  "kernelspec": {
   "display_name": "Python 3",
   "language": "python",
   "name": "python3"
  },
  "language_info": {
   "codemirror_mode": {
    "name": "ipython",
    "version": 3
   },
   "file_extension": ".py",
   "mimetype": "text/x-python",
   "name": "python",
   "nbconvert_exporter": "python",
   "pygments_lexer": "ipython3",
   "version": "3.7.6"
  }
 },
 "nbformat": 4,
 "nbformat_minor": 4
}
